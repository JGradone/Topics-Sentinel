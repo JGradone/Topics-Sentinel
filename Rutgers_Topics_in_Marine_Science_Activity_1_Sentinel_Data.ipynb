{
  "nbformat": 4,
  "nbformat_minor": 0,
  "metadata": {
    "colab": {
      "provenance": [],
      "include_colab_link": true
    },
    "kernelspec": {
      "name": "python3",
      "display_name": "Python 3"
    },
    "language_info": {
      "name": "python"
    }
  },
  "cells": [
    {
      "cell_type": "markdown",
      "metadata": {
        "id": "view-in-github",
        "colab_type": "text"
      },
      "source": [
        "<a href=\"https://colab.research.google.com/github/JGradone/Topics-Sentinel/blob/main/Rutgers_Topics_in_Marine_Science_Activity_1_Sentinel_Data.ipynb\" target=\"_parent\"><img src=\"https://colab.research.google.com/assets/colab-badge.svg\" alt=\"Open In Colab\"/></a>"
      ]
    },
    {
      "cell_type": "markdown",
      "source": [
        "# Activity 1 - Sentinel Glider Data\n",
        "**2025 Rutgers University Topics in Marine Science**\n",
        "\n",
        "*Written by Joe Gradone, Rutgers University, January 22, 2025*\n",
        "\n",
        "*Inspired by https://colab.research.google.com/github/ooi-data-lab/datalab-reu-2020/blob/master/Activity_1_Python_Basics.ipynb*\n",
        "\n",
        "Welcome to Python!  In this notebook, we will demonstrate how you can quickly get started programming in Python, using Google's cool [Colaboratory](https://colab.research.google.com) platform. Colab is basically a free service that can run Python/Jupyter notebooks in the cloud.\n",
        "\n",
        "In this notebook, we will demonstrate some of the basics of programming Python.  If you want to lean more, there are lots of other resources and training sessions out there, including the official [Python Tutorial](https://docs.python.org/3/tutorial/).  But as an oceanographer, you don't really need to know all the ins-and-outs of programming (though it helps), especially when just starting out.  \n",
        "\n",
        "Over the next few sessions we will cover many of the basic recipes you need to:\n",
        "* Quickly load some data\n",
        "* Make some quick plots, and make them look good\n",
        "* Calculate a few basic statistics and averages\n",
        "* And save the data to a new file you can use elsewhere."
      ],
      "metadata": {
        "id": "217LFGAeA2U7"
      }
    },
    {
      "cell_type": "markdown",
      "source": [
        "## Getting Started\n",
        "\n",
        "Jupyter notebooks have two kids of cells.  \"Markdown\" cells, like this one which can contain formatted text, and \"Code\" cells, which contain the code you will run.\n",
        "\n",
        "To execute the code in a cell, you can either:\n",
        "* click the **Play** icon on the left\n",
        "* type **Cmd (or Ctrl) + Enter** to run the cell in place\n",
        "* or type **Shift + Enter** to run the cell and move the focus to the next cell.\n",
        "\n",
        "You can try all these options on our first very elaborate piece of code in the next cell.\n",
        "\n",
        "After you execute the cell, the result will automatically display underneath the cell."
      ],
      "metadata": {
        "id": "NZVSIQz2QBQ9"
      }
    },
    {
      "cell_type": "code",
      "source": [
        "2+2"
      ],
      "metadata": {
        "id": "cMzA7JrhA2z2",
        "outputId": "064412a8-10cc-41c2-c558-064628415f29",
        "colab": {
          "base_uri": "https://localhost:8080/"
        }
      },
      "execution_count": 1,
      "outputs": [
        {
          "output_type": "execute_result",
          "data": {
            "text/plain": [
              "4"
            ]
          },
          "metadata": {},
          "execution_count": 1
        }
      ]
    },
    {
      "cell_type": "code",
      "source": [
        "print(\"Hello, world!\")"
      ],
      "metadata": {
        "id": "SvvbrJqPP9Mb",
        "outputId": "44b62eb2-a489-4d08-e723-700ff8520821",
        "colab": {
          "base_uri": "https://localhost:8080/"
        }
      },
      "execution_count": 2,
      "outputs": [
        {
          "output_type": "stream",
          "name": "stdout",
          "text": [
            "Hello, world!\n"
          ]
        }
      ]
    },
    {
      "cell_type": "code",
      "source": [
        "# This is a comment"
      ],
      "metadata": {
        "id": "HxO5TgzJQFK4"
      },
      "execution_count": 3,
      "outputs": []
    },
    {
      "cell_type": "markdown",
      "source": [
        "As we go through the notebooks, you can add your own comments or text blocks to save your notes."
      ],
      "metadata": {
        "id": "tfE69GTvQImT"
      }
    },
    {
      "cell_type": "code",
      "source": [
        "# Your Turn: Create your own print() command here with your name\n",
        "print()"
      ],
      "metadata": {
        "id": "sggb12HsQGiM",
        "outputId": "0754b451-50ea-42a4-dbb9-87255d5452f5",
        "colab": {
          "base_uri": "https://localhost:8080/"
        }
      },
      "execution_count": 4,
      "outputs": [
        {
          "output_type": "stream",
          "name": "stdout",
          "text": [
            "\n"
          ]
        }
      ]
    },
    {
      "cell_type": "markdown",
      "source": [
        "**A note about print()**\n",
        "\n",
        "* By default, a Colab/Jupyter notebook will print out the output from the last line, so you don't have to specify the `print()` command.  \n",
        "* However, if we want to output the results from additional lines (as we do below), we need to use `print()` on each line.\n",
        "* Sometimes, you can suppress the output from the last line by adding a semi-colon `;` at the end."
      ],
      "metadata": {
        "id": "BA_W7LmIQOU_"
      }
    },
    {
      "cell_type": "code",
      "source": [
        "3\n",
        "4\n",
        "5"
      ],
      "metadata": {
        "id": "qc-tAA82QM_f",
        "outputId": "94bd1be7-5527-4133-df7f-65968c586ba4",
        "colab": {
          "base_uri": "https://localhost:8080/"
        }
      },
      "execution_count": 5,
      "outputs": [
        {
          "output_type": "execute_result",
          "data": {
            "text/plain": [
              "5"
            ]
          },
          "metadata": {},
          "execution_count": 5
        }
      ]
    },
    {
      "cell_type": "code",
      "source": [
        "print(3)\n",
        "print(4)\n",
        "print(5)"
      ],
      "metadata": {
        "id": "ZQRWx9yMQQWJ",
        "outputId": "89e360ee-1b26-410e-8a33-ac89fcf37676",
        "colab": {
          "base_uri": "https://localhost:8080/"
        }
      },
      "execution_count": 7,
      "outputs": [
        {
          "output_type": "stream",
          "name": "stdout",
          "text": [
            "3\n",
            "4\n",
            "5\n"
          ]
        }
      ]
    },
    {
      "cell_type": "markdown",
      "source": [
        "## Some Basics\n",
        "Let's review a few basic features of programming.  \n",
        "\n",
        "First, it's great for math.  You can use addition (+), subtraction (-), multiplication (\\*), division (/) and exponents (**)."
      ],
      "metadata": {
        "id": "7dHSFPIoQW3S"
      }
    },
    {
      "cell_type": "code",
      "source": [
        "# Your Turn: Try some math here\n",
        "5*2"
      ],
      "metadata": {
        "id": "g_lh9kGcQR8s",
        "outputId": "5febad55-86af-410f-f95b-453ea13582a8",
        "colab": {
          "base_uri": "https://localhost:8080/"
        }
      },
      "execution_count": 8,
      "outputs": [
        {
          "output_type": "execute_result",
          "data": {
            "text/plain": [
              "10"
            ]
          },
          "metadata": {},
          "execution_count": 8
        }
      ]
    },
    {
      "cell_type": "code",
      "source": [
        "print(5 * 2 + 3)\n",
        "print(5 * (2+3))\n",
        "print((5 * 2) + 3)"
      ],
      "metadata": {
        "id": "GIMAaJQOQZrK",
        "outputId": "4726c0f8-8c30-4be1-d353-c26d9618174e",
        "colab": {
          "base_uri": "https://localhost:8080/"
        }
      },
      "execution_count": 9,
      "outputs": [
        {
          "output_type": "stream",
          "name": "stdout",
          "text": [
            "13\n",
            "25\n",
            "13\n"
          ]
        }
      ]
    },
    {
      "cell_type": "markdown",
      "source": [
        "## Variables"
      ],
      "metadata": {
        "id": "SjlkR5_8Qda8"
      }
    },
    {
      "cell_type": "code",
      "source": [
        "# We can eailsy assign variables, just like in other languages\n",
        "x = 4\n",
        "y = 2.5"
      ],
      "metadata": {
        "id": "U_u8fYADQbQa"
      },
      "execution_count": 12,
      "outputs": []
    },
    {
      "cell_type": "code",
      "source": [
        "# And we can use them in our formulas\n",
        "print(x + y)\n",
        "print(x/y)"
      ],
      "metadata": {
        "id": "Dzh4Jj3cQixh",
        "outputId": "27b7a160-cc07-494b-91af-caac61c6ff15",
        "colab": {
          "base_uri": "https://localhost:8080/"
        }
      },
      "execution_count": 11,
      "outputs": [
        {
          "output_type": "stream",
          "name": "stdout",
          "text": [
            "6.5\n",
            "1.6\n"
          ]
        }
      ]
    },
    {
      "cell_type": "code",
      "source": [
        "# What kind of objects are these?\n",
        "print(type(x))\n",
        "print(type(y))"
      ],
      "metadata": {
        "id": "hIRgClZRQj5l",
        "outputId": "af87ee25-0005-4489-c10e-e827b5ac64d0",
        "colab": {
          "base_uri": "https://localhost:8080/"
        }
      },
      "execution_count": 13,
      "outputs": [
        {
          "output_type": "stream",
          "name": "stdout",
          "text": [
            "<class 'int'>\n",
            "<class 'float'>\n"
          ]
        }
      ]
    },
    {
      "cell_type": "markdown",
      "source": [
        "## Strings"
      ],
      "metadata": {
        "id": "wp0zMFXNQuCO"
      }
    },
    {
      "cell_type": "code",
      "source": [
        "# A string needs to be in quotes (single or double)\n",
        "z = 'Python is great'\n",
        "z"
      ],
      "metadata": {
        "id": "Q-McWO-KQ0c4",
        "outputId": "1ec83cd2-c0b8-486e-9e35-f91f985ed5fc",
        "colab": {
          "base_uri": "https://localhost:8080/",
          "height": 35
        }
      },
      "execution_count": 14,
      "outputs": [
        {
          "output_type": "execute_result",
          "data": {
            "text/plain": [
              "'Python is great'"
            ],
            "application/vnd.google.colaboratory.intrinsic+json": {
              "type": "string"
            }
          },
          "metadata": {},
          "execution_count": 14
        }
      ]
    },
    {
      "cell_type": "code",
      "source": [
        "# You can't concatenate (add) strings and integers\n",
        "print( z + x )"
      ],
      "metadata": {
        "id": "Q6KM9F0HQ2Ak",
        "outputId": "caaf6192-8325-4679-8e2e-52f6a516ff6c",
        "colab": {
          "base_uri": "https://localhost:8080/",
          "height": 162
        }
      },
      "execution_count": 15,
      "outputs": [
        {
          "output_type": "error",
          "ename": "TypeError",
          "evalue": "can only concatenate str (not \"int\") to str",
          "traceback": [
            "\u001b[0;31m---------------------------------------------------------------------------\u001b[0m",
            "\u001b[0;31mTypeError\u001b[0m                                 Traceback (most recent call last)",
            "\u001b[0;32m<ipython-input-15-45405ff52e40>\u001b[0m in \u001b[0;36m<cell line: 0>\u001b[0;34m()\u001b[0m\n\u001b[1;32m      1\u001b[0m \u001b[0;31m# You can't concatenate (add) strings and integers\u001b[0m\u001b[0;34m\u001b[0m\u001b[0;34m\u001b[0m\u001b[0m\n\u001b[0;32m----> 2\u001b[0;31m \u001b[0mprint\u001b[0m\u001b[0;34m(\u001b[0m \u001b[0mz\u001b[0m \u001b[0;34m+\u001b[0m \u001b[0mx\u001b[0m \u001b[0;34m)\u001b[0m\u001b[0;34m\u001b[0m\u001b[0;34m\u001b[0m\u001b[0m\n\u001b[0m",
            "\u001b[0;31mTypeError\u001b[0m: can only concatenate str (not \"int\") to str"
          ]
        }
      ]
    },
    {
      "cell_type": "code",
      "source": [
        "# But you can multiply them!\n",
        "print( z * x )"
      ],
      "metadata": {
        "id": "AKxfGo-5Q3FJ",
        "outputId": "fef842ba-ca47-4132-f40a-343ef5ad6313",
        "colab": {
          "base_uri": "https://localhost:8080/"
        }
      },
      "execution_count": 16,
      "outputs": [
        {
          "output_type": "stream",
          "name": "stdout",
          "text": [
            "Python is greatPython is greatPython is greatPython is great\n"
          ]
        }
      ]
    },
    {
      "cell_type": "code",
      "source": [
        "# If you convert an integer into a string, you can then catenate them\n",
        "print( z + ' ' + str(x) + ' you!' )"
      ],
      "metadata": {
        "id": "wYKCmg1aQ4Cq",
        "outputId": "04400a9b-a280-4fb3-8e8b-7c8db59b4161",
        "colab": {
          "base_uri": "https://localhost:8080/"
        }
      },
      "execution_count": 17,
      "outputs": [
        {
          "output_type": "stream",
          "name": "stdout",
          "text": [
            "Python is great 4 you!\n"
          ]
        }
      ]
    },
    {
      "cell_type": "code",
      "source": [
        "# A better way\n",
        "print( 'Python is great %s you!' % x )"
      ],
      "metadata": {
        "id": "_KtnjqHSQ5JC",
        "outputId": "ceed5fee-b2a4-4c80-b091-b08998a2a70b",
        "colab": {
          "base_uri": "https://localhost:8080/"
        }
      },
      "execution_count": 18,
      "outputs": [
        {
          "output_type": "stream",
          "name": "stdout",
          "text": [
            "Python is great 4 you!\n"
          ]
        }
      ]
    },
    {
      "cell_type": "markdown",
      "source": [
        "## Fun with Lists\n",
        "Remember, Python uses 0-based indexes, so to grab the first element in a list you actually use \"0\".  The last element is n-1, or just \"-1\" for short. In Matlab this would be 1 to n, or 1:end."
      ],
      "metadata": {
        "id": "z2dkFXXDRCvb"
      }
    },
    {
      "cell_type": "code",
      "source": [
        "my_list = [3, 4, 5, 9, 12, 13]"
      ],
      "metadata": {
        "id": "L5kHAdJJRCOo"
      },
      "execution_count": 21,
      "outputs": []
    },
    {
      "cell_type": "code",
      "source": [
        "# The fist item\n",
        "my_list[0]"
      ],
      "metadata": {
        "id": "-ZIO4A11RCQ4",
        "outputId": "dab843b2-3686-41a5-9a6c-1ab4a67382b2",
        "colab": {
          "base_uri": "https://localhost:8080/"
        }
      },
      "execution_count": 22,
      "outputs": [
        {
          "output_type": "execute_result",
          "data": {
            "text/plain": [
              "3"
            ]
          },
          "metadata": {},
          "execution_count": 22
        }
      ]
    },
    {
      "cell_type": "code",
      "source": [
        "# The last item\n",
        "my_list[-1]"
      ],
      "metadata": {
        "id": "tXmfxylzRCTI",
        "outputId": "f224ff20-3f8f-4492-dec4-6a199b7b537b",
        "colab": {
          "base_uri": "https://localhost:8080/"
        }
      },
      "execution_count": 23,
      "outputs": [
        {
          "output_type": "execute_result",
          "data": {
            "text/plain": [
              "13"
            ]
          },
          "metadata": {},
          "execution_count": 23
        }
      ]
    },
    {
      "cell_type": "code",
      "source": [
        "# Extract a subset\n",
        "my_list[2:5]"
      ],
      "metadata": {
        "id": "MkWRl2x4RK9J",
        "outputId": "3a726cfc-fd24-4027-962b-e9f98bb8ae07",
        "colab": {
          "base_uri": "https://localhost:8080/"
        }
      },
      "execution_count": 24,
      "outputs": [
        {
          "output_type": "execute_result",
          "data": {
            "text/plain": [
              "[5, 9, 12]"
            ]
          },
          "metadata": {},
          "execution_count": 24
        }
      ]
    },
    {
      "cell_type": "code",
      "source": [
        "# A subset from the end\n",
        "my_list[-3:]"
      ],
      "metadata": {
        "id": "1W5F5_Z5RLAB",
        "outputId": "5e6af1c8-6d62-40c4-8733-bd2c64095683",
        "colab": {
          "base_uri": "https://localhost:8080/"
        }
      },
      "execution_count": 25,
      "outputs": [
        {
          "output_type": "execute_result",
          "data": {
            "text/plain": [
              "[9, 12, 13]"
            ]
          },
          "metadata": {},
          "execution_count": 25
        }
      ]
    },
    {
      "cell_type": "code",
      "source": [
        "# Update a value\n",
        "my_list[3] = 99\n",
        "my_list"
      ],
      "metadata": {
        "id": "LTBPq5pgRLYi",
        "outputId": "895b5176-4f96-4916-f455-29bf5ab7ea62",
        "colab": {
          "base_uri": "https://localhost:8080/"
        }
      },
      "execution_count": 26,
      "outputs": [
        {
          "output_type": "execute_result",
          "data": {
            "text/plain": [
              "[3, 4, 5, 99, 12, 13]"
            ]
          },
          "metadata": {},
          "execution_count": 26
        }
      ]
    },
    {
      "cell_type": "markdown",
      "source": [
        "## Arrays\n",
        "Note, a list is not an array by default.  But we can turn it into an array using the *NumPy* library.\n",
        "\n",
        "NumPy is an essential library for working with scientific data. It provides an array object that is very similar to Matlab's array functionality, allowing you to perform mathematical calculations or run linear algebra routines."
      ],
      "metadata": {
        "id": "7y5Zs5qSQ7nf"
      }
    },
    {
      "cell_type": "code",
      "source": [
        "my_list * x"
      ],
      "metadata": {
        "id": "qiyod2JoRVy1",
        "outputId": "b99a3da0-64f3-4022-e968-0c89a227bfef",
        "colab": {
          "base_uri": "https://localhost:8080/"
        }
      },
      "execution_count": 27,
      "outputs": [
        {
          "output_type": "execute_result",
          "data": {
            "text/plain": [
              "[3,\n",
              " 4,\n",
              " 5,\n",
              " 99,\n",
              " 12,\n",
              " 13,\n",
              " 3,\n",
              " 4,\n",
              " 5,\n",
              " 99,\n",
              " 12,\n",
              " 13,\n",
              " 3,\n",
              " 4,\n",
              " 5,\n",
              " 99,\n",
              " 12,\n",
              " 13,\n",
              " 3,\n",
              " 4,\n",
              " 5,\n",
              " 99,\n",
              " 12,\n",
              " 13]"
            ]
          },
          "metadata": {},
          "execution_count": 27
        }
      ]
    },
    {
      "cell_type": "code",
      "source": [
        "import numpy as np"
      ],
      "metadata": {
        "id": "9XnRPInmQ559"
      },
      "execution_count": 19,
      "outputs": []
    },
    {
      "cell_type": "code",
      "source": [
        "a = np.array(my_list)\n",
        "a * x"
      ],
      "metadata": {
        "id": "KmulQvQ9Q-rh",
        "outputId": "dd0316ce-1b3b-49fc-e3ff-d9c3854ecdda",
        "colab": {
          "base_uri": "https://localhost:8080/"
        }
      },
      "execution_count": 28,
      "outputs": [
        {
          "output_type": "execute_result",
          "data": {
            "text/plain": [
              "array([ 12,  16,  20, 396,  48,  52])"
            ]
          },
          "metadata": {},
          "execution_count": 28
        }
      ]
    },
    {
      "cell_type": "markdown",
      "source": [
        "## Let's load some glider data now!"
      ],
      "metadata": {
        "id": "ihE_vbj7RbTq"
      }
    },
    {
      "cell_type": "code",
      "source": [],
      "metadata": {
        "id": "L05mAP_DQ_wV"
      },
      "execution_count": null,
      "outputs": []
    }
  ]
}