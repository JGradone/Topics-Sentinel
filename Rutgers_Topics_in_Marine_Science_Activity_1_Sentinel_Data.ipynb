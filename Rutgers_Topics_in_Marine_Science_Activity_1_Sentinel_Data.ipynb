{
  "nbformat": 4,
  "nbformat_minor": 0,
  "metadata": {
    "colab": {
      "provenance": []
    },
    "kernelspec": {
      "name": "python3",
      "display_name": "Python 3"
    },
    "language_info": {
      "name": "python"
    }
  },
  "cells": [
    {
      "cell_type": "markdown",
      "source": [
        "# Activity 1 - Sentinel Glider Data\n",
        "**2025 Rutgers University Topics in Marine Science**\n",
        "\n",
        "*Written by Joe Gradone, Rutgers University, January 22, 2025*\n",
        "\n",
        "*Inspired by https://colab.research.google.com/github/ooi-data-lab/datalab-reu-2020/blob/master/Activity_1_Python_Basics.ipynb*\n",
        "\n",
        "Welcome to Python!  In this notebook, we will demonstrate how you can quickly get started programming in Python, using Google's cool [Colaboratory](https://colab.research.google.com) platform. Colab is basically a free service that can run Python/Jupyter notebooks in the cloud.\n",
        "\n",
        "In this notebook, we will demonstrate some of the basics of programming Python.  If you want to lean more, there are lots of other resources and training sessions out there, including the official [Python Tutorial](https://docs.python.org/3/tutorial/).  But as an oceanographer, you don't really need to know all the ins-and-outs of programming (though it helps), especially when just starting out.  \n",
        "\n",
        "Over the next few sessions we will cover many of the basic recipes you need to:\n",
        "* Quickly load some data\n",
        "* Make some quick plots, and make them look good\n",
        "* Calculate a few basic statistics and averages\n",
        "* And save the data to a new file you can use elsewhere."
      ],
      "metadata": {
        "id": "217LFGAeA2U7"
      }
    },
    {
      "cell_type": "code",
      "source": [],
      "metadata": {
        "id": "cMzA7JrhA2z2"
      },
      "execution_count": null,
      "outputs": []
    }
  ]
}